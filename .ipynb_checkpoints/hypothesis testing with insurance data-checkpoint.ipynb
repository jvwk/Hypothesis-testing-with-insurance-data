{
 "cells": [
  {
   "cell_type": "markdown",
   "id": "03d99135",
   "metadata": {},
   "source": [
    "# **Hypothesis Testing With Insurance Data**\n",
    "\n",
    "## *Jaco van Wyk*\n",
    "\n",
    "--------------"
   ]
  },
  {
   "cell_type": "markdown",
   "id": "5a20586d",
   "metadata": {},
   "source": [
    "Q1. Do smokers have higher insurance charges than non-smokers?\n",
    "\n",
    "Q2. Are men more likely to smoke than women?\n",
    "\n",
    "Q3. Do different regions have different charges, on average?\n",
    "\n",
    "\n",
    "\n",
    "\n",
    "- State your Null Hypothesis and Alternative Hypothesis\n",
    "- Select the correct test according to the data type and number of samples\n",
    "- Test the assumptions of your selected test.\n",
    "- Execute the selected test, or the alternative test (if you do not meet the assumptions)\n",
    "- Interpret your p-value and reject or fail to reject your null hypothesis \n",
    "- Show a supporting visualization that helps display the result"
   ]
  },
  {
   "cell_type": "code",
   "execution_count": 1,
   "id": "e88d2308",
   "metadata": {},
   "outputs": [],
   "source": [
    "# Imports\n",
    "\n",
    "import pandas as pd\n",
    "import numpy as np\n",
    "import matplotlib.pyplot as plt\n",
    "import seaborn as sns\n",
    "import scipy.stats as stats\n",
    "from statsmodels.stats.multicomp import pairwise_tukeyhsd"
   ]
  },
  {
   "cell_type": "code",
   "execution_count": 35,
   "id": "86947281",
   "metadata": {},
   "outputs": [],
   "source": [
    "# Data\n",
    "\n",
    "file = 'https://docs.google.com/spreadsheets/d/e/2PACX-1vQBN8DPW2rdiRrY34eEM53HAzakNGSRrw4ogI-j8HyCUrbqTB_z4CeIn2IvjLF-w_6sOe5pIlypJGAA/pub?output=csv'\n",
    "df = pd.read_csv(file)"
   ]
  },
  {
   "cell_type": "code",
   "execution_count": 36,
   "id": "a05351fa",
   "metadata": {},
   "outputs": [
    {
     "name": "stdout",
     "output_type": "stream",
     "text": [
      "<class 'pandas.core.frame.DataFrame'>\n",
      "RangeIndex: 1338 entries, 0 to 1337\n",
      "Data columns (total 7 columns):\n",
      " #   Column    Non-Null Count  Dtype  \n",
      "---  ------    --------------  -----  \n",
      " 0   age       1338 non-null   int64  \n",
      " 1   sex       1338 non-null   object \n",
      " 2   bmi       1338 non-null   float64\n",
      " 3   children  1338 non-null   int64  \n",
      " 4   smoker    1338 non-null   object \n",
      " 5   region    1338 non-null   object \n",
      " 6   charges   1338 non-null   float64\n",
      "dtypes: float64(2), int64(2), object(3)\n",
      "memory usage: 73.3+ KB\n"
     ]
    }
   ],
   "source": [
    "df.info()"
   ]
  },
  {
   "cell_type": "code",
   "execution_count": 37,
   "id": "d73b1221",
   "metadata": {},
   "outputs": [
    {
     "data": {
      "text/html": [
       "<div>\n",
       "<style scoped>\n",
       "    .dataframe tbody tr th:only-of-type {\n",
       "        vertical-align: middle;\n",
       "    }\n",
       "\n",
       "    .dataframe tbody tr th {\n",
       "        vertical-align: top;\n",
       "    }\n",
       "\n",
       "    .dataframe thead th {\n",
       "        text-align: right;\n",
       "    }\n",
       "</style>\n",
       "<table border=\"1\" class=\"dataframe\">\n",
       "  <thead>\n",
       "    <tr style=\"text-align: right;\">\n",
       "      <th></th>\n",
       "      <th>age</th>\n",
       "      <th>sex</th>\n",
       "      <th>bmi</th>\n",
       "      <th>children</th>\n",
       "      <th>smoker</th>\n",
       "      <th>region</th>\n",
       "      <th>charges</th>\n",
       "    </tr>\n",
       "  </thead>\n",
       "  <tbody>\n",
       "    <tr>\n",
       "      <th>0</th>\n",
       "      <td>19</td>\n",
       "      <td>female</td>\n",
       "      <td>27.900</td>\n",
       "      <td>0</td>\n",
       "      <td>yes</td>\n",
       "      <td>southwest</td>\n",
       "      <td>16884.92400</td>\n",
       "    </tr>\n",
       "    <tr>\n",
       "      <th>1</th>\n",
       "      <td>18</td>\n",
       "      <td>male</td>\n",
       "      <td>33.770</td>\n",
       "      <td>1</td>\n",
       "      <td>no</td>\n",
       "      <td>southeast</td>\n",
       "      <td>1725.55230</td>\n",
       "    </tr>\n",
       "    <tr>\n",
       "      <th>2</th>\n",
       "      <td>28</td>\n",
       "      <td>male</td>\n",
       "      <td>33.000</td>\n",
       "      <td>3</td>\n",
       "      <td>no</td>\n",
       "      <td>southeast</td>\n",
       "      <td>4449.46200</td>\n",
       "    </tr>\n",
       "    <tr>\n",
       "      <th>3</th>\n",
       "      <td>33</td>\n",
       "      <td>male</td>\n",
       "      <td>22.705</td>\n",
       "      <td>0</td>\n",
       "      <td>no</td>\n",
       "      <td>northwest</td>\n",
       "      <td>21984.47061</td>\n",
       "    </tr>\n",
       "    <tr>\n",
       "      <th>4</th>\n",
       "      <td>32</td>\n",
       "      <td>male</td>\n",
       "      <td>28.880</td>\n",
       "      <td>0</td>\n",
       "      <td>no</td>\n",
       "      <td>northwest</td>\n",
       "      <td>3866.85520</td>\n",
       "    </tr>\n",
       "  </tbody>\n",
       "</table>\n",
       "</div>"
      ],
      "text/plain": [
       "   age     sex     bmi  children smoker     region      charges\n",
       "0   19  female  27.900         0    yes  southwest  16884.92400\n",
       "1   18    male  33.770         1     no  southeast   1725.55230\n",
       "2   28    male  33.000         3     no  southeast   4449.46200\n",
       "3   33    male  22.705         0     no  northwest  21984.47061\n",
       "4   32    male  28.880         0     no  northwest   3866.85520"
      ]
     },
     "execution_count": 37,
     "metadata": {},
     "output_type": "execute_result"
    }
   ],
   "source": [
    "df.head()"
   ]
  },
  {
   "cell_type": "markdown",
   "id": "677a2ae3",
   "metadata": {},
   "source": [
    "### **Q1. Do smokers have higher insurance charges than non-smokers?**"
   ]
  },
  {
   "cell_type": "markdown",
   "id": "118e699c",
   "metadata": {},
   "source": [
    "#### Hypotheses\n",
    "\n",
    "H<sub>0</sub>: Smokers and non-smokers have the same insurance charges, $\\mu_{smokers} = \\mu_{non-smokers}$\n",
    "\n",
    "H<sub>1</sub>: Smokers have higher insurance charges than non-smokers, $\\mu_{smokers} > \\mu_{non-smokers}$"
   ]
  },
  {
   "attachments": {},
   "cell_type": "markdown",
   "id": "3ee83692",
   "metadata": {},
   "source": [
    "#### Test: **Two-sample t-test**\n",
    "\n",
    "Assumptions:\n",
    "\n",
    "- No significant outliers\n",
    "- Normality\n",
    "- Equal variance"
   ]
  },
  {
   "cell_type": "code",
   "execution_count": 38,
   "id": "05f93348",
   "metadata": {},
   "outputs": [
    {
     "data": {
      "text/plain": [
       "no     1064\n",
       "yes     274\n",
       "Name: smoker, dtype: int64"
      ]
     },
     "execution_count": 38,
     "metadata": {},
     "output_type": "execute_result"
    }
   ],
   "source": [
    "# Investigate smoking status numbers\n",
    "df['smoker'].value_counts()"
   ]
  },
  {
   "cell_type": "code",
   "execution_count": 39,
   "id": "c6b5c842",
   "metadata": {},
   "outputs": [],
   "source": [
    "# Split data into separate groups for smokers and non-smokers\n",
    "smoker_df = df.loc[df['smoker'] == 'yes'].copy()\n",
    "nonsmoker_df = df.loc[df['smoker'] == 'no'].copy()\n"
   ]
  },
  {
   "cell_type": "markdown",
   "id": "34384d1f",
   "metadata": {},
   "source": [
    "#### Remove outliers and test t-test assumptions"
   ]
  },
  {
   "cell_type": "code",
   "execution_count": 41,
   "id": "b0d7bc60",
   "metadata": {},
   "outputs": [
    {
     "data": {
      "text/plain": [
       "0"
      ]
     },
     "execution_count": 41,
     "metadata": {},
     "output_type": "execute_result"
    }
   ],
   "source": [
    "# Check for smoker outliers\n",
    "zscores= stats.zscore(smoker_charge)\n",
    "outliers = abs(zscores)>3\n",
    "np.sum(outliers)\n"
   ]
  },
  {
   "cell_type": "code",
   "execution_count": 42,
   "id": "a9011c9b",
   "metadata": {},
   "outputs": [
    {
     "data": {
      "text/plain": [
       "24"
      ]
     },
     "execution_count": 42,
     "metadata": {},
     "output_type": "execute_result"
    }
   ],
   "source": [
    "# Check for non-smoker outliers\n",
    "zscores= stats.zscore(nonsmoker_charge)\n",
    "outliers = abs(zscores)>3\n",
    "np.sum(outliers)\n"
   ]
  },
  {
   "cell_type": "code",
   "execution_count": 43,
   "id": "695c7f88",
   "metadata": {},
   "outputs": [],
   "source": [
    "# Remove non-smoker outliers\n",
    "nonsmoker_charge = nonsmoker_charge[(np.abs(stats.zscore(nonsmoker_charge)) < 3)]\n"
   ]
  },
  {
   "cell_type": "code",
   "execution_count": 64,
   "id": "0c26245d",
   "metadata": {},
   "outputs": [
    {
     "data": {
      "text/plain": [
       "NormaltestResult(statistic=61.03941356533816, pvalue=5.564930630036463e-14)"
      ]
     },
     "execution_count": 64,
     "metadata": {},
     "output_type": "execute_result"
    }
   ],
   "source": [
    "# test smoker group for normality\n",
    "result_smoker_charge = stats.normaltest(smoker_charge)\n",
    "result_smoker_charge\n"
   ]
  },
  {
   "cell_type": "markdown",
   "id": "578f9eeb",
   "metadata": {},
   "source": [
    "Not normally distributed at 0.05 level of significance, but the number of data points is high enough (n = 274) to assume normality of sample means (central limit theorem)"
   ]
  },
  {
   "cell_type": "code",
   "execution_count": 45,
   "id": "ec161754",
   "metadata": {},
   "outputs": [
    {
     "data": {
      "text/plain": [
       "NormaltestResult(statistic=163.80367047789198, pvalue=2.6945416315543976e-36)"
      ]
     },
     "execution_count": 45,
     "metadata": {},
     "output_type": "execute_result"
    }
   ],
   "source": [
    "# Test non-smoker group for normality\n",
    "result_nonsmoker_charge = stats.normaltest(nonsmoker_charge)\n",
    "result_nonsmoker_charge\n"
   ]
  },
  {
   "cell_type": "markdown",
   "id": "0806c496",
   "metadata": {},
   "source": [
    "Not normally distributed at 0.05 level of significance, but the number of data points is high enough (n = 1040 after removing outliers) to assume normality of sample means (central limit theorem)"
   ]
  },
  {
   "cell_type": "code",
   "execution_count": 46,
   "id": "9b1f31e9",
   "metadata": {},
   "outputs": [
    {
     "data": {
      "text/plain": [
       "LeveneResult(statistic=520.7468821724297, pvalue=2.4247238784347824e-97)"
      ]
     },
     "execution_count": 46,
     "metadata": {},
     "output_type": "execute_result"
    }
   ],
   "source": [
    "# Test for equal variance\n",
    "result = stats.levene(smoker_charge, nonsmoker_charge)\n",
    "result\n"
   ]
  },
  {
   "cell_type": "markdown",
   "id": "91660846",
   "metadata": {},
   "source": [
    "Unequal variances &rarr; set equal_var = False when performing t-test"
   ]
  },
  {
   "cell_type": "markdown",
   "id": "0ecd562a",
   "metadata": {},
   "source": [
    "#### Perform t-test"
   ]
  },
  {
   "cell_type": "code",
   "execution_count": 47,
   "id": "d973d7e4",
   "metadata": {},
   "outputs": [
    {
     "data": {
      "text/plain": [
       "TtestResult(statistic=33.732305987092516, pvalue=2.575322662587431e-104, df=301.26189518807416)"
      ]
     },
     "execution_count": 47,
     "metadata": {},
     "output_type": "execute_result"
    }
   ],
   "source": [
    "# Independent t-test with equal_var set to False\n",
    "result = stats.ttest_ind(smoker_charge, nonsmoker_charge, equal_var = False)\n",
    "result\n"
   ]
  },
  {
   "cell_type": "markdown",
   "id": "4a72ab0d",
   "metadata": {},
   "source": [
    "#### Interpretation"
   ]
  },
  {
   "cell_type": "markdown",
   "id": "25e4e2a7",
   "metadata": {},
   "source": [
    "The p-value of $2.5753\\times10^{-104}$ is lower than the set rejection threshold ($\\alpha$) of $0.05$<br>\n",
    "Reject the null hypotheses and conclude, with 95% confidence, that smokers have higher charges than non-smokers"
   ]
  },
  {
   "cell_type": "markdown",
   "id": "9596ca59",
   "metadata": {},
   "source": [
    "#### Visualisation"
   ]
  },
  {
   "cell_type": "code",
   "execution_count": 54,
   "id": "19993155",
   "metadata": {
    "scrolled": true
   },
   "outputs": [
    {
     "data": {
      "image/png": "[encoded data removed]",
      "text/plain": [
       "<Figure size 800x400 with 2 Axes>"
      ]
     },
     "metadata": {},
     "output_type": "display_data"
    }
   ],
   "source": [
    "## Visualizing means\n",
    "fig, (ax,ax_bar) = plt.subplots(figsize= (8,4), ncols=2,\n",
    "                                constrained_layout=True,\n",
    "                                gridspec_kw={'width_ratios':[0.8,0.2]})\n",
    "\n",
    "\n",
    "# Histogram\n",
    "ax = sns.histplot(data=df, x='charges',fill=True,hue='smoker',kde=True,\n",
    "                  stat='density',common_norm=False,ax=ax)\n",
    "\n",
    "ax.axvline(np.mean(smoker_charge), ls='--',lw=2,\n",
    "           label=f\"Smoker (Mean={np.mean(smoker_charge):.2f})\",color='blue')\n",
    "\n",
    "ax.axvline(np.mean(nonsmoker_charge), ls='--', lw=2,\n",
    "           label=f\"Non-smoker (Mean={np.mean(nonsmoker_charge):.2f})\",color='orange')\n",
    "\n",
    "ax.legend(prop={\"size\":10}, loc='upper right')#bbox_to_anchor=[1,1])\n",
    "## Barplot\n",
    "sns.barplot(data=df, x='smoker',y='charges',ax = ax_bar)\n",
    "fig.suptitle('Charges for smokers versus non-smokers',fontsize='xx-large');"
   ]
  },
  {
   "cell_type": "markdown",
   "id": "94e74ddd",
   "metadata": {},
   "source": [
    "### **Q2. Are men more likely to smoke than women?**"
   ]
  },
  {
   "cell_type": "markdown",
   "id": "50e1baff",
   "metadata": {},
   "source": [
    "#### Hypotheses\n",
    "\n",
    "H<sub>0</sub>: There is no relationship between sex and smoking status\n",
    "\n",
    "H<sub>1</sub>: There is a relationship between sex and smoking status"
   ]
  },
  {
   "attachments": {},
   "cell_type": "markdown",
   "id": "b0ab59c8",
   "metadata": {},
   "source": [
    "#### Test: **$\\chi^{2}$ test for independence**\n",
    "\n",
    "Assumptions:\n",
    "\n",
    "- There are two categorical variables\n",
    "- Each of the two variables consist of (two or more) *independent* categorical groups"
   ]
  },
  {
   "cell_type": "code",
   "execution_count": 55,
   "id": "d34a35e0",
   "metadata": {},
   "outputs": [
    {
     "data": {
      "text/plain": [
       "male      676\n",
       "female    662\n",
       "Name: sex, dtype: int64"
      ]
     },
     "execution_count": 55,
     "metadata": {},
     "output_type": "execute_result"
    }
   ],
   "source": [
    "# Investigate smoking status numbers\n",
    "df['sex'].value_counts()"
   ]
  },
  {
   "cell_type": "code",
   "execution_count": 56,
   "id": "41bea8c9",
   "metadata": {},
   "outputs": [
    {
     "data": {
      "text/plain": [
       "no     1064\n",
       "yes     274\n",
       "Name: smoker, dtype: int64"
      ]
     },
     "execution_count": 56,
     "metadata": {},
     "output_type": "execute_result"
    }
   ],
   "source": [
    "# Investigate smoking status numbers\n",
    "df['smoker'].value_counts()"
   ]
  },
  {
   "cell_type": "markdown",
   "id": "978d3390",
   "metadata": {},
   "source": [
    "#### Test $\\chi^{2}$ test assumptions"
   ]
  },
  {
   "cell_type": "markdown",
   "id": "788b9140",
   "metadata": {},
   "source": [
    "There are two categorical variables: 'sex' and 'smoker'\n",
    "\n",
    "The groups for 'sex' are indpendent from each other: one data point's value being male does not play role in any other data point's category value\n",
    "\n",
    "The groups for 'smoker' are indpendent from each other: one data point's value being yes does not play role in any other data point's value (assuming data points don't come from groups where, for example, peer pressure from one data point could have influenced the smoking status of another data point, or something similar)\n",
    "\n",
    "The assumptions underlying the $\\chi^{2}$ test are valid"
   ]
  },
  {
   "cell_type": "code",
   "execution_count": 58,
   "id": "5b7a6fce",
   "metadata": {},
   "outputs": [
    {
     "data": {
      "text/html": [
       "<div>\n",
       "<style scoped>\n",
       "    .dataframe tbody tr th:only-of-type {\n",
       "        vertical-align: middle;\n",
       "    }\n",
       "\n",
       "    .dataframe tbody tr th {\n",
       "        vertical-align: top;\n",
       "    }\n",
       "\n",
       "    .dataframe thead th {\n",
       "        text-align: right;\n",
       "    }\n",
       "</style>\n",
       "<table border=\"1\" class=\"dataframe\">\n",
       "  <thead>\n",
       "    <tr style=\"text-align: right;\">\n",
       "      <th>smoker</th>\n",
       "      <th>no</th>\n",
       "      <th>yes</th>\n",
       "    </tr>\n",
       "    <tr>\n",
       "      <th>sex</th>\n",
       "      <th></th>\n",
       "      <th></th>\n",
       "    </tr>\n",
       "  </thead>\n",
       "  <tbody>\n",
       "    <tr>\n",
       "      <th>female</th>\n",
       "      <td>547</td>\n",
       "      <td>115</td>\n",
       "    </tr>\n",
       "    <tr>\n",
       "      <th>male</th>\n",
       "      <td>517</td>\n",
       "      <td>159</td>\n",
       "    </tr>\n",
       "  </tbody>\n",
       "</table>\n",
       "</div>"
      ],
      "text/plain": [
       "smoker   no  yes\n",
       "sex             \n",
       "female  547  115\n",
       "male    517  159"
      ]
     },
     "execution_count": 58,
     "metadata": {},
     "output_type": "execute_result"
    }
   ],
   "source": [
    "# calculate the contingency table with pd.cross-tab\n",
    "table = pd.crosstab(df['sex'], df['smoker'])\n",
    "table\n"
   ]
  },
  {
   "cell_type": "markdown",
   "id": "033b7938",
   "metadata": {},
   "source": [
    "#### Perform t-test"
   ]
  },
  {
   "cell_type": "code",
   "execution_count": 59,
   "id": "977cb182",
   "metadata": {},
   "outputs": [
    {
     "name": "stdout",
     "output_type": "stream",
     "text": [
      "0.006548143503580696\n"
     ]
    },
    {
     "data": {
      "text/plain": [
       "True"
      ]
     },
     "execution_count": 59,
     "metadata": {},
     "output_type": "execute_result"
    }
   ],
   "source": [
    "# Perform chi-square test\n",
    "result = stats.chi2_contingency(table)\n",
    "chi2, p, deg_free, expected_vals = result\n",
    "\n",
    "print(p)\n",
    "p<.05\n"
   ]
  },
  {
   "cell_type": "markdown",
   "id": "067d01f1",
   "metadata": {},
   "source": [
    "#### Interpretation"
   ]
  },
  {
   "cell_type": "markdown",
   "id": "70a6017c",
   "metadata": {},
   "source": [
    "The p-value of $0.0065481$ is lower than the set required rejection threshold ($\\alpha$) of $0.05$<br>\n",
    "Reject the null hypotheses and conclude, with 95% confidence, that there is a relationship between smoking status and sex"
   ]
  },
  {
   "cell_type": "markdown",
   "id": "16768d71",
   "metadata": {},
   "source": [
    "#### Visualisation"
   ]
  },
  {
   "cell_type": "code",
   "execution_count": 60,
   "id": "f641f9fb",
   "metadata": {
    "scrolled": true
   },
   "outputs": [
    {
     "data": {
      "image/png": "[encoded data removed]",
      "text/plain": [
       "<Figure size 640x480 with 1 Axes>"
      ]
     },
     "metadata": {},
     "output_type": "display_data"
    }
   ],
   "source": [
    "ax = sns.countplot(data=df, x='sex',hue='smoker',)\n",
    "ax.set_title(\"Number of smokers by sex\");\n"
   ]
  },
  {
   "cell_type": "markdown",
   "id": "29b8f873",
   "metadata": {},
   "source": [
    "### **3. Do different regions have different charges, on average?**"
   ]
  },
  {
   "cell_type": "code",
   "execution_count": 61,
   "id": "31c18f1d",
   "metadata": {},
   "outputs": [
    {
     "data": {
      "text/plain": [
       "southeast    364\n",
       "southwest    325\n",
       "northwest    325\n",
       "northeast    324\n",
       "Name: region, dtype: int64"
      ]
     },
     "execution_count": 61,
     "metadata": {},
     "output_type": "execute_result"
    }
   ],
   "source": [
    "# Investigate regions\n",
    "\n",
    "df['region'].value_counts()"
   ]
  },
  {
   "cell_type": "markdown",
   "id": "9313ac13",
   "metadata": {},
   "source": [
    "#### Hypotheses\n",
    "\n",
    "H<sub>0</sub>: Different regions have the same charges on average, $\\mu_{northeast} = \\mu_{northwest} = \\mu_{southeast} = \\mu_{southwest}$\n",
    "\n",
    "H<sub>1</sub>: Different regions different charges on average"
   ]
  },
  {
   "attachments": {},
   "cell_type": "markdown",
   "id": "b0e91ced",
   "metadata": {},
   "source": [
    "#### Test: **One-way ANOVA**\n",
    "\n",
    "Assumptions:\n",
    "\n",
    "- No significant outliers\n",
    "- Normality\n",
    "- Equal variance"
   ]
  },
  {
   "cell_type": "code",
   "execution_count": 63,
   "id": "2d1b9fb5",
   "metadata": {},
   "outputs": [
    {
     "data": {
      "text/plain": [
       "dict_keys(['southwest', 'southeast', 'northwest', 'northeast'])"
      ]
     },
     "execution_count": 63,
     "metadata": {},
     "output_type": "execute_result"
    }
   ],
   "source": [
    "# Create groups dictionary\n",
    "groups = {}\n",
    "\n",
    "# Loop through all unique categories\n",
    "for i in df['region'].unique():\n",
    "    # Get series for group and rename\n",
    "    data = df.loc[df['region']==i,'charges'].copy()\n",
    "    \n",
    "    # save into the dictionary\n",
    "    groups[i] = data\n",
    "groups.keys()\n"
   ]
  },
  {
   "cell_type": "markdown",
   "id": "83bf737e",
   "metadata": {},
   "source": [
    "#### Remove outliers and test t-test assumptions"
   ]
  },
  {
   "cell_type": "code",
   "execution_count": 65,
   "id": "3cb82ffb",
   "metadata": {},
   "outputs": [
    {
     "name": "stdout",
     "output_type": "stream",
     "text": [
      "8 outliers for southwest\n",
      "2 outliers for southeast\n",
      "7 outliers for northwest\n",
      "4 outliers for northeast\n"
     ]
    }
   ],
   "source": [
    "# Check for outliers\n",
    "\n",
    "for i in groups.keys():\n",
    "    zscores= stats.zscore(groups[i])\n",
    "    outliers = abs(zscores) > 3\n",
    "    print(f'{np.sum(outliers)} outliers for {i}')\n"
   ]
  },
  {
   "cell_type": "code",
   "execution_count": 68,
   "id": "e3ac5244",
   "metadata": {},
   "outputs": [],
   "source": [
    "# Remove outliers\n",
    "\n",
    "for i in groups.keys():\n",
    "    groups[i] = groups[i][(np.abs(stats.zscore(groups[i])) < 3)]\n"
   ]
  },
  {
   "cell_type": "code",
   "execution_count": 69,
   "id": "15fda6a4",
   "metadata": {},
   "outputs": [
    {
     "data": {
      "text/html": [
       "<div>\n",
       "<style scoped>\n",
       "    .dataframe tbody tr th:only-of-type {\n",
       "        vertical-align: middle;\n",
       "    }\n",
       "\n",
       "    .dataframe tbody tr th {\n",
       "        vertical-align: top;\n",
       "    }\n",
       "\n",
       "    .dataframe thead th {\n",
       "        text-align: right;\n",
       "    }\n",
       "</style>\n",
       "<table border=\"1\" class=\"dataframe\">\n",
       "  <thead>\n",
       "    <tr style=\"text-align: right;\">\n",
       "      <th></th>\n",
       "      <th>n</th>\n",
       "      <th>p</th>\n",
       "      <th>test stat</th>\n",
       "    </tr>\n",
       "  </thead>\n",
       "  <tbody>\n",
       "    <tr>\n",
       "      <th>southwest</th>\n",
       "      <td>317.0</td>\n",
       "      <td>7.728611e-22</td>\n",
       "      <td>97.223886</td>\n",
       "    </tr>\n",
       "    <tr>\n",
       "      <th>southeast</th>\n",
       "      <td>362.0</td>\n",
       "      <td>1.936990e-13</td>\n",
       "      <td>58.544942</td>\n",
       "    </tr>\n",
       "    <tr>\n",
       "      <th>northwest</th>\n",
       "      <td>318.0</td>\n",
       "      <td>2.940543e-19</td>\n",
       "      <td>85.341045</td>\n",
       "    </tr>\n",
       "    <tr>\n",
       "      <th>northeast</th>\n",
       "      <td>320.0</td>\n",
       "      <td>3.557877e-17</td>\n",
       "      <td>75.749565</td>\n",
       "    </tr>\n",
       "  </tbody>\n",
       "</table>\n",
       "</div>"
      ],
      "text/plain": [
       "               n             p  test stat\n",
       "southwest  317.0  7.728611e-22  97.223886\n",
       "southeast  362.0  1.936990e-13  58.544942\n",
       "northwest  318.0  2.940543e-19  85.341045\n",
       "northeast  320.0  3.557877e-17  75.749565"
      ]
     },
     "execution_count": 69,
     "metadata": {},
     "output_type": "execute_result"
    }
   ],
   "source": [
    "## Running normal test on each group and confirming there are >20 in each group\n",
    "norm_results = {}\n",
    "for i, data in groups.items():\n",
    "    stat, p = stats.normaltest(data)\n",
    "    ## save the p val, test statistic, and the size of the group\n",
    "    norm_results[i] = {'n': len(data),\n",
    "                             'p':p,\n",
    "                             'test stat':stat,}\n",
    "## convert to a dataframe\n",
    "norm_results_df = pd.DataFrame(norm_results).T\n",
    "norm_results_df"
   ]
  },
  {
   "cell_type": "markdown",
   "id": "97ca6782",
   "metadata": {},
   "source": [
    "No group normally distributed at 0.05 level of significance, but the number of data points is high enough (n > 300 for all groups) to assume normality of sample means (central limit theorem)"
   ]
  },
  {
   "cell_type": "code",
   "execution_count": 70,
   "id": "b1227a3f",
   "metadata": {},
   "outputs": [
    {
     "data": {
      "text/plain": [
       "LeveneResult(statistic=9.518349004554441, pvalue=3.2035503711783993e-06)"
      ]
     },
     "execution_count": 70,
     "metadata": {},
     "output_type": "execute_result"
    }
   ],
   "source": [
    "# Test for equal variance\n",
    "\n",
    "stats.levene(*groups.values())\n"
   ]
  },
  {
   "cell_type": "markdown",
   "id": "209b58c0",
   "metadata": {},
   "source": [
    "Unequal variances &rarr; use Welch ANOVA test instead"
   ]
  },
  {
   "cell_type": "markdown",
   "id": "ce1f9ffd",
   "metadata": {},
   "source": [
    "#### Perform Welch ANOVA test\n",
    "\n",
    "- Same assumptions as classic one-way ANOVA apart from assumption of equal variances"
   ]
  },
  {
   "cell_type": "code",
   "execution_count": 74,
   "id": "dc619a74",
   "metadata": {},
   "outputs": [
    {
     "name": "stdout",
     "output_type": "stream",
     "text": [
      "Collecting pingouin\n",
      "  Downloading pingouin-0.5.3-py3-none-any.whl (198 kB)\n",
      "     ---------------------------------------- 0.0/198.6 kB ? eta -:--:--\n",
      "     -- ------------------------------------- 10.2/198.6 kB ? eta -:--:--\n",
      "     ------- ----------------------------- 41.0/198.6 kB 326.8 kB/s eta 0:00:01\n",
      "     ----------------------------- -------- 153.6/198.6 kB 1.0 MB/s eta 0:00:01\n",
      "     -------------------------------------- 198.6/198.6 kB 1.2 MB/s eta 0:00:00\n",
      "Requirement already satisfied: numpy>=1.19 in c:\\users\\javwyk\\appdata\\local\\anaconda3\\lib\\site-packages (from pingouin) (1.24.3)\n",
      "Requirement already satisfied: scipy>=1.7 in c:\\users\\javwyk\\appdata\\local\\anaconda3\\lib\\site-packages (from pingouin) (1.11.1)\n",
      "Requirement already satisfied: pandas>=1.0 in c:\\users\\javwyk\\appdata\\local\\anaconda3\\lib\\site-packages (from pingouin) (1.5.3)\n",
      "Requirement already satisfied: matplotlib>=3.0.2 in c:\\users\\javwyk\\appdata\\local\\anaconda3\\lib\\site-packages (from pingouin) (3.7.2)\n",
      "Requirement already satisfied: seaborn>=0.11 in c:\\users\\javwyk\\appdata\\roaming\\python\\python311\\site-packages (from pingouin) (0.11.2)\n",
      "Requirement already satisfied: statsmodels>=0.13 in c:\\users\\javwyk\\appdata\\local\\anaconda3\\lib\\site-packages (from pingouin) (0.14.0)\n",
      "Requirement already satisfied: scikit-learn in c:\\users\\javwyk\\appdata\\local\\anaconda3\\lib\\site-packages (from pingouin) (1.3.0)\n",
      "Collecting pandas-flavor>=0.2.0 (from pingouin)\n",
      "  Obtaining dependency information for pandas-flavor>=0.2.0 from https://files.pythonhosted.org/packages/67/1a/bfb5574b215f530c7ac5be684f33d60b299abbebd763c203aa31755f2fb2/pandas_flavor-0.6.0-py3-none-any.whl.metadata\n",
      "  Downloading pandas_flavor-0.6.0-py3-none-any.whl.metadata (6.3 kB)\n",
      "Collecting outdated (from pingouin)\n",
      "  Downloading outdated-0.2.2-py2.py3-none-any.whl (7.5 kB)\n",
      "Requirement already satisfied: tabulate in c:\\users\\javwyk\\appdata\\roaming\\python\\python311\\site-packages (from pingouin) (0.8.9)\n",
      "Requirement already satisfied: contourpy>=1.0.1 in c:\\users\\javwyk\\appdata\\local\\anaconda3\\lib\\site-packages (from matplotlib>=3.0.2->pingouin) (1.0.5)\n",
      "Requirement already satisfied: cycler>=0.10 in c:\\users\\javwyk\\appdata\\local\\anaconda3\\lib\\site-packages (from matplotlib>=3.0.2->pingouin) (0.11.0)\n",
      "Requirement already satisfied: fonttools>=4.22.0 in c:\\users\\javwyk\\appdata\\roaming\\python\\python311\\site-packages (from matplotlib>=3.0.2->pingouin) (4.29.1)\n",
      "Requirement already satisfied: kiwisolver>=1.0.1 in c:\\users\\javwyk\\appdata\\local\\anaconda3\\lib\\site-packages (from matplotlib>=3.0.2->pingouin) (1.4.4)\n",
      "Requirement already satisfied: packaging>=20.0 in c:\\users\\javwyk\\appdata\\local\\anaconda3\\lib\\site-packages (from matplotlib>=3.0.2->pingouin) (23.1)\n",
      "Requirement already satisfied: pillow>=6.2.0 in c:\\users\\javwyk\\appdata\\local\\anaconda3\\lib\\site-packages (from matplotlib>=3.0.2->pingouin) (9.4.0)\n",
      "Requirement already satisfied: pyparsing<3.1,>=2.3.1 in c:\\users\\javwyk\\appdata\\local\\anaconda3\\lib\\site-packages (from matplotlib>=3.0.2->pingouin) (3.0.9)\n",
      "Requirement already satisfied: python-dateutil>=2.7 in c:\\users\\javwyk\\appdata\\local\\anaconda3\\lib\\site-packages (from matplotlib>=3.0.2->pingouin) (2.8.2)\n",
      "Requirement already satisfied: pytz>=2020.1 in c:\\users\\javwyk\\appdata\\local\\anaconda3\\lib\\site-packages (from pandas>=1.0->pingouin) (2023.3.post1)\n",
      "Requirement already satisfied: xarray in c:\\users\\javwyk\\appdata\\local\\anaconda3\\lib\\site-packages (from pandas-flavor>=0.2.0->pingouin) (2023.6.0)\n",
      "Requirement already satisfied: patsy>=0.5.2 in c:\\users\\javwyk\\appdata\\local\\anaconda3\\lib\\site-packages (from statsmodels>=0.13->pingouin) (0.5.3)\n",
      "Requirement already satisfied: setuptools>=44 in c:\\users\\javwyk\\appdata\\local\\anaconda3\\lib\\site-packages (from outdated->pingouin) (68.0.0)\n",
      "Collecting littleutils (from outdated->pingouin)\n",
      "  Downloading littleutils-0.2.2.tar.gz (6.6 kB)\n",
      "  Preparing metadata (setup.py): started\n",
      "  Preparing metadata (setup.py): finished with status 'done'\n",
      "Requirement already satisfied: requests in c:\\users\\javwyk\\appdata\\local\\anaconda3\\lib\\site-packages (from outdated->pingouin) (2.31.0)\n",
      "Requirement already satisfied: joblib>=1.1.1 in c:\\users\\javwyk\\appdata\\local\\anaconda3\\lib\\site-packages (from scikit-learn->pingouin) (1.2.0)\n",
      "Requirement already satisfied: threadpoolctl>=2.0.0 in c:\\users\\javwyk\\appdata\\local\\anaconda3\\lib\\site-packages (from scikit-learn->pingouin) (2.2.0)\n",
      "Requirement already satisfied: six in c:\\users\\javwyk\\appdata\\local\\anaconda3\\lib\\site-packages (from patsy>=0.5.2->statsmodels>=0.13->pingouin) (1.16.0)\n",
      "Requirement already satisfied: charset-normalizer<4,>=2 in c:\\users\\javwyk\\appdata\\local\\anaconda3\\lib\\site-packages (from requests->outdated->pingouin) (2.0.4)\n",
      "Requirement already satisfied: idna<4,>=2.5 in c:\\users\\javwyk\\appdata\\roaming\\python\\python311\\site-packages (from requests->outdated->pingouin) (3.3)\n",
      "Requirement already satisfied: urllib3<3,>=1.21.1 in c:\\users\\javwyk\\appdata\\roaming\\python\\python311\\site-packages (from requests->outdated->pingouin) (1.26.8)\n",
      "Requirement already satisfied: certifi>=2017.4.17 in c:\\users\\javwyk\\appdata\\local\\anaconda3\\lib\\site-packages (from requests->outdated->pingouin) (2023.7.22)\n",
      "Downloading pandas_flavor-0.6.0-py3-none-any.whl (7.2 kB)\n",
      "Building wheels for collected packages: littleutils\n",
      "  Building wheel for littleutils (setup.py): started\n",
      "  Building wheel for littleutils (setup.py): finished with status 'done'\n",
      "  Created wheel for littleutils: filename=littleutils-0.2.2-py3-none-any.whl size=7034 sha256=2a7f7304f4d4d49e69b154b08926db047df2997879cb5d9a5df85590db703192\n",
      "  Stored in directory: c:\\users\\javwyk\\appdata\\local\\pip\\cache\\wheels\\17\\8d\\65\\9a39917567093c895549811c172be5d2dfb63c7e4b143e05a4\n",
      "Successfully built littleutils\n",
      "Installing collected packages: littleutils, outdated, pandas-flavor, pingouin\n",
      "Successfully installed littleutils-0.2.2 outdated-0.2.2 pandas-flavor-0.6.0 pingouin-0.5.3\n"
     ]
    }
   ],
   "source": [
    "# Install pigouin in order to access Welch's ANOVA\n",
    "!pip install pingouin"
   ]
  },
  {
   "cell_type": "code",
   "execution_count": 75,
   "id": "20304d3e",
   "metadata": {},
   "outputs": [],
   "source": [
    "import pingouin as pg "
   ]
  },
  {
   "cell_type": "code",
   "execution_count": 76,
   "id": "db3022d9",
   "metadata": {
    "scrolled": true
   },
   "outputs": [
    {
     "data": {
      "text/html": [
       "<div>\n",
       "<style scoped>\n",
       "    .dataframe tbody tr th:only-of-type {\n",
       "        vertical-align: middle;\n",
       "    }\n",
       "\n",
       "    .dataframe tbody tr th {\n",
       "        vertical-align: top;\n",
       "    }\n",
       "\n",
       "    .dataframe thead th {\n",
       "        text-align: right;\n",
       "    }\n",
       "</style>\n",
       "<table border=\"1\" class=\"dataframe\">\n",
       "  <thead>\n",
       "    <tr style=\"text-align: right;\">\n",
       "      <th></th>\n",
       "      <th>Source</th>\n",
       "      <th>ddof1</th>\n",
       "      <th>ddof2</th>\n",
       "      <th>F</th>\n",
       "      <th>p-unc</th>\n",
       "      <th>np2</th>\n",
       "    </tr>\n",
       "  </thead>\n",
       "  <tbody>\n",
       "    <tr>\n",
       "      <th>0</th>\n",
       "      <td>region</td>\n",
       "      <td>3</td>\n",
       "      <td>740.95703</td>\n",
       "      <td>2.608068</td>\n",
       "      <td>0.050593</td>\n",
       "      <td>0.006634</td>\n",
       "    </tr>\n",
       "  </tbody>\n",
       "</table>\n",
       "</div>"
      ],
      "text/plain": [
       "   Source  ddof1      ddof2         F     p-unc       np2\n",
       "0  region      3  740.95703  2.608068  0.050593  0.006634"
      ]
     },
     "execution_count": 76,
     "metadata": {},
     "output_type": "execute_result"
    }
   ],
   "source": [
    "# Welch ANOVA test\n",
    "result = pg.welch_anova(dv='charges', between='region', data=df) \n",
    "result\n"
   ]
  },
  {
   "cell_type": "markdown",
   "id": "079f3ae1",
   "metadata": {},
   "source": [
    "#### Interpretation"
   ]
  },
  {
   "cell_type": "markdown",
   "id": "17b56e18",
   "metadata": {},
   "source": [
    "The p-value of $0.050593$ is higher than the set rejection threshold ($\\alpha$) of $0.05$<br>\n",
    "Fail to reject the null hypotheses and conclude, with 95% confidence, that regions have the same charges on average"
   ]
  },
  {
   "cell_type": "markdown",
   "id": "e50e69e1",
   "metadata": {},
   "source": [
    "#### Visualisation"
   ]
  },
  {
   "cell_type": "code",
   "execution_count": 88,
   "id": "6e71c5d9",
   "metadata": {},
   "outputs": [
    {
     "data": {
      "image/png": "[encoded data removed]",
      "text/plain": [
       "<Figure size 800x400 with 2 Axes>"
      ]
     },
     "metadata": {},
     "output_type": "display_data"
    }
   ],
   "source": [
    "## Visualizing means\n",
    "fig, (ax,ax_bar) = plt.subplots(figsize= (8,4), ncols=2,\n",
    "                                constrained_layout=True,\n",
    "                                gridspec_kw={'width_ratios':[0.8,0.2]})\n",
    "\n",
    "\n",
    "# Histogram\n",
    "ax = sns.histplot(data=df, x='charges',fill=True,hue='region',kde=True,\n",
    "                  stat='density',common_norm=False,ax=ax)\n",
    "\n",
    "linestyles = ['-', '--', ':', '-.']\n",
    "l = 0\n",
    "\n",
    "for i in groups.keys():\n",
    "    ax.axvline(np.mean(groups[i]), ls=linestyles[l],lw=1,\n",
    "           label=f\"{i} (Mean={np.mean(groups[i]):.2f})\",color='black')\n",
    "    l = l + 1 \n",
    "\n",
    "    \n",
    "ax.legend(prop={\"size\":10}, loc='upper right')#bbox_to_anchor=[1,1])\n",
    "## Barplot\n",
    "sns.barplot(data=df, x='region',y='charges',ax = ax_bar)\n",
    "fig.suptitle('Charges for regions',fontsize='small')\n",
    "ax_bar.set_xticklabels(ax_bar.get_xticklabels(), rotation=90);"
   ]
  }
 ],
 "metadata": {
  "kernelspec": {
   "display_name": "Python (dojo-env)",
   "language": "python",
   "name": "dojo-env"
  },
  "language_info": {
   "codemirror_mode": {
    "name": "ipython",
    "version": 3
   },
   "file_extension": ".py",
   "mimetype": "text/x-python",
   "name": "python",
   "nbconvert_exporter": "python",
   "pygments_lexer": "ipython3",
   "version": "3.11.5"
  }
 },
 "nbformat": 4,
 "nbformat_minor": 5
}
